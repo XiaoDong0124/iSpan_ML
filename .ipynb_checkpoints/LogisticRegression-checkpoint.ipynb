{
 "cells": [
  {
   "cell_type": "code",
   "execution_count": 2,
   "id": "847fb4c6-b805-48c6-840d-718ae032b022",
   "metadata": {},
   "outputs": [],
   "source": [
    "import pandas as pd\n",
    "import numpy as np\n",
    "#df_org=pd.read_csv(filepath+\"application_train_merge_clear_nomissing .csv\")\n",
    "df_org=pd.read_csv(\"application_train_merge_clear_nomissing_with_ylabel.csv\")"
   ]
  },
  {
   "cell_type": "code",
   "execution_count": 3,
   "id": "1a70a437-d5ab-43f2-ab77-19fa394d5ae9",
   "metadata": {},
   "outputs": [],
   "source": [
    "df=df_org"
   ]
  },
  {
   "cell_type": "markdown",
   "id": "c5b99f74-11a4-4be0-a568-ba702198c19f",
   "metadata": {},
   "source": [
    "## 資料切分"
   ]
  },
  {
   "cell_type": "code",
   "execution_count": 5,
   "id": "c5b2c676-a60f-415c-b7f9-de356b5af217",
   "metadata": {},
   "outputs": [],
   "source": [
    "y_=[]#找出 違約人的索引\n",
    "for i in (df[df[\"simple_labelx\"]!=0].index):\n",
    "  y_.append(i)\n",
    "y_1=[] #找出沒違約人的索引\n",
    "for i in (df[df[\"simple_labelx\"]==0].index):\n",
    "  y_1.append(i)\n",
    "df_split=df.loc[y_]\n",
    "df_split0=df.loc[y_1]\n",
    "df_tar1=df_split.reset_index()\n",
    "df_tar0=df_split0.reset_index()\n",
    "df_tar_e=df_tar0.iloc[:57886,:] #分成同等分\n",
    "dfe=pd.concat([df_tar_e,df_tar1],ignore_index=True,axis=0)"
   ]
  },
  {
   "cell_type": "code",
   "execution_count": 13,
   "id": "9b7c850a-6a16-4eb7-9cc7-f0619bffb22c",
   "metadata": {},
   "outputs": [],
   "source": [
    "df_X = df[['DAYS_LAST_PHONE_CHANGE', 'DAYS_LATE_PAYMENT', 'PC_SK_DPDMix_Max',\n",
    "       'SK_ID_PREV_y', 'bureau_DAYS_CREDIT']]\n",
    "df_y = df['simple_labelx']"
   ]
  },
  {
   "cell_type": "code",
   "execution_count": 22,
   "id": "54bc331b-92ec-4618-8a16-a136c6a34ebe",
   "metadata": {},
   "outputs": [],
   "source": [
    "from sklearn.model_selection import train_test_split\n",
    "#X , y = df_X.iloc[257511:,:] , df_y.iloc[257511:]\n",
    "X , y = df_X  , df_y\n",
    "X_train, X_test, y_train, y_test =\\\n",
    "    train_test_split(X, y, \n",
    "                     test_size=0.2,#超過10萬9,1分比較好 \n",
    "                     random_state=0, \n",
    "                     stratify=y)"
   ]
  },
  {
   "cell_type": "code",
   "execution_count": 23,
   "id": "f60ce201-e41f-4ef6-bd58-33254fc7710d",
   "metadata": {},
   "outputs": [
    {
     "data": {
      "text/plain": [
       "(246008, 5)"
      ]
     },
     "execution_count": 23,
     "metadata": {},
     "output_type": "execute_result"
    }
   ],
   "source": [
    "X_train.shape"
   ]
  },
  {
   "cell_type": "code",
   "execution_count": 24,
   "id": "14684d49-9908-43b9-9540-67b71f9e924d",
   "metadata": {},
   "outputs": [],
   "source": [
    "from sklearn.linear_model import LogisticRegression\n",
    "from sklearn.model_selection import RepeatedStratifiedKFold\n",
    "cv = RepeatedStratifiedKFold(n_splits=10, n_repeats=3)#, random_state=1)\n",
    "# 建立Logistic模型\n",
    "logisticModel = LogisticRegression()#random_state=1)\n",
    "# 使用訓練資料訓練模型\n",
    "logisticModel.fit(X_train, y_train)\n",
    "# 使用訓練資料預測分類\n",
    "predicted = logisticModel.predict(X_train)"
   ]
  },
  {
   "cell_type": "code",
   "execution_count": 25,
   "id": "d0836a28-e41f-47da-8575-08828eae28e9",
   "metadata": {},
   "outputs": [
    {
     "name": "stdout",
     "output_type": "stream",
     "text": [
      "訓練集:  0.98613459724887\n",
      "測試集:  0.9858055704599775\n"
     ]
    }
   ],
   "source": [
    "print('訓練集: ',logisticModel.score(X_train,y_train))\n",
    "print('測試集: ',logisticModel.score(X_test,y_test))"
   ]
  },
  {
   "cell_type": "code",
   "execution_count": 26,
   "id": "4580200e-e624-4c1e-adf9-850127d515b7",
   "metadata": {},
   "outputs": [
    {
     "name": "stdout",
     "output_type": "stream",
     "text": [
      "分類的預測結果：\n",
      "[0. 0. 0. ... 0. 0. 0.]\n",
      "真實數據：\n",
      "[0. 0. 0. ... 0. 0. 0.]\n"
     ]
    }
   ],
   "source": [
    "print('分類的預測結果：')\n",
    "pred = logisticModel.predict(X_test) \n",
    "print(pred) #觀察預測結果AA\n",
    "print('真實數據：')\n",
    "print(y_test.values)  #觀察真實數據(Test data)"
   ]
  },
  {
   "cell_type": "code",
   "execution_count": 27,
   "id": "df91ff49-0b99-4df9-9214-64c9e0a47c3f",
   "metadata": {},
   "outputs": [
    {
     "data": {
      "text/plain": [
       "0.9858055704599775"
      ]
     },
     "execution_count": 27,
     "metadata": {},
     "output_type": "execute_result"
    }
   ],
   "source": [
    "from sklearn.metrics import accuracy_score\n",
    "accuracy_score(y_test, pred)"
   ]
  },
  {
   "cell_type": "code",
   "execution_count": 28,
   "id": "08235bd9-f095-443c-86c4-f3027cef92ee",
   "metadata": {},
   "outputs": [
    {
     "data": {
      "text/plain": [
       "array([[49926,     0],\n",
       "       [  873, 10704]])"
      ]
     },
     "execution_count": 28,
     "metadata": {},
     "output_type": "execute_result"
    }
   ],
   "source": [
    "from sklearn.metrics import confusion_matrix\n",
    "confusion_matrix(y_test, pred)"
   ]
  },
  {
   "cell_type": "code",
   "execution_count": null,
   "id": "2bb9208e-14d1-4948-8d4f-ced53bc64cec",
   "metadata": {},
   "outputs": [],
   "source": []
  }
 ],
 "metadata": {
  "kernelspec": {
   "display_name": "Python 3 (ipykernel)",
   "language": "python",
   "name": "python3"
  },
  "language_info": {
   "codemirror_mode": {
    "name": "ipython",
    "version": 3
   },
   "file_extension": ".py",
   "mimetype": "text/x-python",
   "name": "python",
   "nbconvert_exporter": "python",
   "pygments_lexer": "ipython3",
   "version": "3.8.10"
  }
 },
 "nbformat": 4,
 "nbformat_minor": 5
}
