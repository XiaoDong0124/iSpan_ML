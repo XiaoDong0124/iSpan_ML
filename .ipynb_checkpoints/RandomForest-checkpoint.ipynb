{
 "cells": [
  {
   "cell_type": "code",
   "execution_count": 1,
   "id": "b724e2ea-c06e-48eb-999b-47d8a59a7c92",
   "metadata": {},
   "outputs": [],
   "source": [
    "import pandas as pd\n",
    "import numpy as np\n",
    "#df_org=pd.read_csv(filepath+\"application_train_merge_clear_nomissing .csv\")\n",
    "df_org=pd.read_csv(\"application_train_merge_clear_nomissing_with_ylabel_dy.csv\")"
   ]
  },
  {
   "cell_type": "code",
   "execution_count": 2,
   "id": "0ee66c6c-7c44-4755-b5df-26b1f8bca37f",
   "metadata": {},
   "outputs": [],
   "source": [
    "df=df_org"
   ]
  },
  {
   "cell_type": "code",
   "execution_count": 3,
   "id": "56e83230-942d-428e-92bc-646cb6da2889",
   "metadata": {},
   "outputs": [],
   "source": [
    "y_=[]#找出 違約人的索引\n",
    "for i in (df[df[\"simple_labelx\"]!=0].index):\n",
    "  y_.append(i)\n",
    "y_1=[] #找出沒違約人的索引\n",
    "for i in (df[df[\"simple_labelx\"]==0].index):\n",
    "  y_1.append(i)\n",
    "df_split=df.loc[y_]\n",
    "df_split0=df.loc[y_1]\n",
    "df_tar1=df_split.reset_index()\n",
    "df_tar0=df_split0.reset_index()\n",
    "df_tar_e=df_tar0.iloc[:57886,:] #分成同等分\n",
    "dfe=pd.concat([df_tar_e,df_tar1],ignore_index=True,axis=0)"
   ]
  },
  {
   "cell_type": "code",
   "execution_count": 11,
   "id": "6cf1fc64-e176-4e95-82e4-c7fb9fab857d",
   "metadata": {},
   "outputs": [],
   "source": [
    "df_X = dfe[['AMT_INCOME_TOTAL', 'DAYS_BIRTH', 'DAYS_EMPLOYED', 'DAYS_REGISTRATION',\n",
    "       'DAYS_ID_PUBLISH', 'CNT_FAM_MEMBERS', 'HOUR_APPR_PROCESS_START_x',\n",
    "       'OBS_60_CNT_SOCIAL_CIRCLE', 'DAYS_LAST_PHONE_CHANGE',\n",
    "       'AMT_REQ_CREDIT_BUREAU_YEAR']]\n",
    "df_y = dfe['simple_labelx']"
   ]
  },
  {
   "cell_type": "code",
   "execution_count": 4,
   "id": "9642709b-1de9-4548-a819-c9d74125359f",
   "metadata": {},
   "outputs": [],
   "source": [
    "df_X = dfe[['AMT_INCOME_TOTAL',  'DAYS_REGISTRATION',\n",
    "        'CNT_FAM_MEMBERS',\n",
    "       'OBS_60_CNT_SOCIAL_CIRCLE']]\n",
    "df_y = dfe['simple_labelx']"
   ]
  },
  {
   "cell_type": "code",
   "execution_count": 5,
   "id": "0536fae9-34ba-4b1e-bff8-3605206ac234",
   "metadata": {},
   "outputs": [
    {
     "data": {
      "text/html": [
       "<div>\n",
       "<style scoped>\n",
       "    .dataframe tbody tr th:only-of-type {\n",
       "        vertical-align: middle;\n",
       "    }\n",
       "\n",
       "    .dataframe tbody tr th {\n",
       "        vertical-align: top;\n",
       "    }\n",
       "\n",
       "    .dataframe thead th {\n",
       "        text-align: right;\n",
       "    }\n",
       "</style>\n",
       "<table border=\"1\" class=\"dataframe\">\n",
       "  <thead>\n",
       "    <tr style=\"text-align: right;\">\n",
       "      <th></th>\n",
       "      <th>Unnamed: 0</th>\n",
       "      <th>TARGET</th>\n",
       "      <th>CNT_CHILDREN</th>\n",
       "      <th>AMT_INCOME_TOTAL</th>\n",
       "      <th>NAME_EDUCATION_TYPE</th>\n",
       "      <th>DAYS_BIRTH</th>\n",
       "      <th>DAYS_EMPLOYED</th>\n",
       "      <th>DAYS_REGISTRATION</th>\n",
       "      <th>DAYS_ID_PUBLISH</th>\n",
       "      <th>FLAG_EMP_PHONE</th>\n",
       "      <th>...</th>\n",
       "      <th>FONDKAPREMONT_MODE_reg oper account</th>\n",
       "      <th>FONDKAPREMONT_MODE_reg oper spec account</th>\n",
       "      <th>HOUSETYPE_MODE_block of flats</th>\n",
       "      <th>WALLSMATERIAL_MODE_Block</th>\n",
       "      <th>WALLSMATERIAL_MODE_Panel</th>\n",
       "      <th>WALLSMATERIAL_MODE_Stone, brick</th>\n",
       "      <th>EMERGENCYSTATE_MODE_No</th>\n",
       "      <th>EMERGENCYSTATE_MODE_Yes</th>\n",
       "      <th>simple_labelx</th>\n",
       "      <th>scores</th>\n",
       "    </tr>\n",
       "  </thead>\n",
       "  <tbody>\n",
       "    <tr>\n",
       "      <th>0</th>\n",
       "      <td>0</td>\n",
       "      <td>1.0</td>\n",
       "      <td>0.0</td>\n",
       "      <td>202500.0</td>\n",
       "      <td>1.0</td>\n",
       "      <td>-9461.0</td>\n",
       "      <td>-637.0</td>\n",
       "      <td>-3648.0</td>\n",
       "      <td>-2120.0</td>\n",
       "      <td>1.0</td>\n",
       "      <td>...</td>\n",
       "      <td>1.0</td>\n",
       "      <td>0.0</td>\n",
       "      <td>1.0</td>\n",
       "      <td>0.0</td>\n",
       "      <td>0.0</td>\n",
       "      <td>1.0</td>\n",
       "      <td>1.0</td>\n",
       "      <td>0.0</td>\n",
       "      <td>0.0</td>\n",
       "      <td>96</td>\n",
       "    </tr>\n",
       "    <tr>\n",
       "      <th>1</th>\n",
       "      <td>1</td>\n",
       "      <td>0.0</td>\n",
       "      <td>0.0</td>\n",
       "      <td>270000.0</td>\n",
       "      <td>3.0</td>\n",
       "      <td>-16765.0</td>\n",
       "      <td>-1188.0</td>\n",
       "      <td>-1186.0</td>\n",
       "      <td>-291.0</td>\n",
       "      <td>1.0</td>\n",
       "      <td>...</td>\n",
       "      <td>1.0</td>\n",
       "      <td>0.0</td>\n",
       "      <td>1.0</td>\n",
       "      <td>1.0</td>\n",
       "      <td>0.0</td>\n",
       "      <td>0.0</td>\n",
       "      <td>1.0</td>\n",
       "      <td>0.0</td>\n",
       "      <td>0.0</td>\n",
       "      <td>100</td>\n",
       "    </tr>\n",
       "    <tr>\n",
       "      <th>2</th>\n",
       "      <td>2</td>\n",
       "      <td>0.0</td>\n",
       "      <td>0.0</td>\n",
       "      <td>67500.0</td>\n",
       "      <td>1.0</td>\n",
       "      <td>-19046.0</td>\n",
       "      <td>-225.0</td>\n",
       "      <td>-4260.0</td>\n",
       "      <td>-2531.0</td>\n",
       "      <td>1.0</td>\n",
       "      <td>...</td>\n",
       "      <td>0.0</td>\n",
       "      <td>0.0</td>\n",
       "      <td>0.0</td>\n",
       "      <td>0.0</td>\n",
       "      <td>0.0</td>\n",
       "      <td>0.0</td>\n",
       "      <td>0.0</td>\n",
       "      <td>0.0</td>\n",
       "      <td>0.0</td>\n",
       "      <td>100</td>\n",
       "    </tr>\n",
       "    <tr>\n",
       "      <th>3</th>\n",
       "      <td>3</td>\n",
       "      <td>0.0</td>\n",
       "      <td>0.0</td>\n",
       "      <td>135000.0</td>\n",
       "      <td>1.0</td>\n",
       "      <td>-19005.0</td>\n",
       "      <td>-3039.0</td>\n",
       "      <td>-9833.0</td>\n",
       "      <td>-2437.0</td>\n",
       "      <td>1.0</td>\n",
       "      <td>...</td>\n",
       "      <td>0.0</td>\n",
       "      <td>0.0</td>\n",
       "      <td>0.0</td>\n",
       "      <td>0.0</td>\n",
       "      <td>0.0</td>\n",
       "      <td>0.0</td>\n",
       "      <td>0.0</td>\n",
       "      <td>0.0</td>\n",
       "      <td>0.0</td>\n",
       "      <td>96</td>\n",
       "    </tr>\n",
       "    <tr>\n",
       "      <th>4</th>\n",
       "      <td>4</td>\n",
       "      <td>0.0</td>\n",
       "      <td>0.0</td>\n",
       "      <td>121500.0</td>\n",
       "      <td>1.0</td>\n",
       "      <td>-19932.0</td>\n",
       "      <td>-3038.0</td>\n",
       "      <td>-4311.0</td>\n",
       "      <td>-3458.0</td>\n",
       "      <td>1.0</td>\n",
       "      <td>...</td>\n",
       "      <td>0.0</td>\n",
       "      <td>0.0</td>\n",
       "      <td>0.0</td>\n",
       "      <td>0.0</td>\n",
       "      <td>0.0</td>\n",
       "      <td>0.0</td>\n",
       "      <td>0.0</td>\n",
       "      <td>0.0</td>\n",
       "      <td>0.0</td>\n",
       "      <td>88</td>\n",
       "    </tr>\n",
       "  </tbody>\n",
       "</table>\n",
       "<p>5 rows × 84 columns</p>\n",
       "</div>"
      ],
      "text/plain": [
       "   Unnamed: 0  TARGET  CNT_CHILDREN  AMT_INCOME_TOTAL  NAME_EDUCATION_TYPE  \\\n",
       "0           0     1.0           0.0          202500.0                  1.0   \n",
       "1           1     0.0           0.0          270000.0                  3.0   \n",
       "2           2     0.0           0.0           67500.0                  1.0   \n",
       "3           3     0.0           0.0          135000.0                  1.0   \n",
       "4           4     0.0           0.0          121500.0                  1.0   \n",
       "\n",
       "   DAYS_BIRTH  DAYS_EMPLOYED  DAYS_REGISTRATION  DAYS_ID_PUBLISH  \\\n",
       "0     -9461.0         -637.0            -3648.0          -2120.0   \n",
       "1    -16765.0        -1188.0            -1186.0           -291.0   \n",
       "2    -19046.0         -225.0            -4260.0          -2531.0   \n",
       "3    -19005.0        -3039.0            -9833.0          -2437.0   \n",
       "4    -19932.0        -3038.0            -4311.0          -3458.0   \n",
       "\n",
       "   FLAG_EMP_PHONE  ...  FONDKAPREMONT_MODE_reg oper account  \\\n",
       "0             1.0  ...                                  1.0   \n",
       "1             1.0  ...                                  1.0   \n",
       "2             1.0  ...                                  0.0   \n",
       "3             1.0  ...                                  0.0   \n",
       "4             1.0  ...                                  0.0   \n",
       "\n",
       "   FONDKAPREMONT_MODE_reg oper spec account  HOUSETYPE_MODE_block of flats  \\\n",
       "0                                       0.0                            1.0   \n",
       "1                                       0.0                            1.0   \n",
       "2                                       0.0                            0.0   \n",
       "3                                       0.0                            0.0   \n",
       "4                                       0.0                            0.0   \n",
       "\n",
       "   WALLSMATERIAL_MODE_Block  WALLSMATERIAL_MODE_Panel  \\\n",
       "0                       0.0                       0.0   \n",
       "1                       1.0                       0.0   \n",
       "2                       0.0                       0.0   \n",
       "3                       0.0                       0.0   \n",
       "4                       0.0                       0.0   \n",
       "\n",
       "   WALLSMATERIAL_MODE_Stone, brick  EMERGENCYSTATE_MODE_No  \\\n",
       "0                              1.0                     1.0   \n",
       "1                              0.0                     1.0   \n",
       "2                              0.0                     0.0   \n",
       "3                              0.0                     0.0   \n",
       "4                              0.0                     0.0   \n",
       "\n",
       "   EMERGENCYSTATE_MODE_Yes  simple_labelx  scores  \n",
       "0                      0.0            0.0      96  \n",
       "1                      0.0            0.0     100  \n",
       "2                      0.0            0.0     100  \n",
       "3                      0.0            0.0      96  \n",
       "4                      0.0            0.0      88  \n",
       "\n",
       "[5 rows x 84 columns]"
      ]
     },
     "execution_count": 5,
     "metadata": {},
     "output_type": "execute_result"
    }
   ],
   "source": [
    "df.head()"
   ]
  },
  {
   "cell_type": "code",
   "execution_count": 12,
   "id": "fefdbff9-9caa-4af3-b973-ef34529fce07",
   "metadata": {},
   "outputs": [],
   "source": [
    "from sklearn.model_selection import train_test_split\n",
    "#X , y = dfe.iloc[:,2:-2] , dfe.iloc[:,-2]\n",
    "X , y = df_X  , df_y\n",
    "X_train, X_test, y_train, y_test =\\\n",
    "    train_test_split(X, y, \n",
    "                     test_size=0.1,#超過10萬9,1分比較好 \n",
    "                     #random_state=0, \n",
    "                     stratify=y)"
   ]
  },
  {
   "cell_type": "code",
   "execution_count": 7,
   "id": "d7735590-b458-45f5-b08d-38823d6ccc47",
   "metadata": {},
   "outputs": [
    {
     "data": {
      "text/plain": [
       "108785    1.0\n",
       "37920     0.0\n",
       "10023     0.0\n",
       "101018    1.0\n",
       "107439    1.0\n",
       "         ... \n",
       "111005    1.0\n",
       "29539     0.0\n",
       "108453    1.0\n",
       "89421     1.0\n",
       "105936    1.0\n",
       "Name: simple_labelx, Length: 11578, dtype: float64"
      ]
     },
     "execution_count": 7,
     "metadata": {},
     "output_type": "execute_result"
    }
   ],
   "source": [
    " y_test"
   ]
  },
  {
   "cell_type": "markdown",
   "id": "a0d53282-1e6d-45b9-b4d1-834954da491c",
   "metadata": {},
   "source": [
    "## 決策樹"
   ]
  },
  {
   "cell_type": "code",
   "execution_count": 28,
   "id": "158f36dd-f917-4afe-a81a-928f2d793645",
   "metadata": {},
   "outputs": [
    {
     "name": "stdout",
     "output_type": "stream",
     "text": [
      "[0. 1. 1. ... 1. 1. 1.]\n",
      "115609    1.0\n",
      "86712     1.0\n",
      "81958     1.0\n",
      "70090     1.0\n",
      "22916     0.0\n",
      "         ... \n",
      "29345     0.0\n",
      "113432    1.0\n",
      "38505     0.0\n",
      "35850     0.0\n",
      "8604      0.0\n",
      "Name: simple_labelx, Length: 11578, dtype: float64\n"
     ]
    }
   ],
   "source": [
    "from sklearn import tree\n",
    "\n",
    "# 建立分類器\n",
    "clf = tree.DecisionTreeClassifier()\n",
    "X_clf = clf.fit(X_train, y_train)\n",
    "\n",
    "# 預測\n",
    "y_test_predicted = X_clf.predict(X_test)\n",
    "print(y_test_predicted)\n",
    "\n",
    "# 標準答案\n",
    "print(y_test)"
   ]
  },
  {
   "cell_type": "code",
   "execution_count": 29,
   "id": "a0bfe397-1ab6-415d-bab0-7dd03cfe1d57",
   "metadata": {},
   "outputs": [
    {
     "name": "stdout",
     "output_type": "stream",
     "text": [
      "0.5251338745897391\n"
     ]
    }
   ],
   "source": [
    "from sklearn import metrics\n",
    "accuracy = metrics.accuracy_score(y_test, y_test_predicted)\n",
    "print(accuracy)"
   ]
  },
  {
   "cell_type": "code",
   "execution_count": 30,
   "id": "1c232aac-f81a-4e3e-9227-c42cfbd9fa4a",
   "metadata": {},
   "outputs": [
    {
     "data": {
      "text/plain": [
       "0          96\n",
       "1         100\n",
       "2         100\n",
       "3          96\n",
       "4          88\n",
       "         ... \n",
       "307506     96\n",
       "307507    100\n",
       "307508     90\n",
       "307509     96\n",
       "307510     64\n",
       "Name: scores, Length: 307511, dtype: int64"
      ]
     },
     "execution_count": 30,
     "metadata": {},
     "output_type": "execute_result"
    }
   ],
   "source": [
    "df.scores"
   ]
  },
  {
   "cell_type": "markdown",
   "id": "64806657-d6cc-4169-b84c-1d8d90ed9f1e",
   "metadata": {},
   "source": [
    "## Random Forest"
   ]
  },
  {
   "cell_type": "code",
   "execution_count": 13,
   "id": "96647780-08ea-4a9f-a59e-afcbda2eed46",
   "metadata": {},
   "outputs": [
    {
     "data": {
      "text/html": [
       "<style>#sk-container-id-2 {color: black;background-color: white;}#sk-container-id-2 pre{padding: 0;}#sk-container-id-2 div.sk-toggleable {background-color: white;}#sk-container-id-2 label.sk-toggleable__label {cursor: pointer;display: block;width: 100%;margin-bottom: 0;padding: 0.3em;box-sizing: border-box;text-align: center;}#sk-container-id-2 label.sk-toggleable__label-arrow:before {content: \"▸\";float: left;margin-right: 0.25em;color: #696969;}#sk-container-id-2 label.sk-toggleable__label-arrow:hover:before {color: black;}#sk-container-id-2 div.sk-estimator:hover label.sk-toggleable__label-arrow:before {color: black;}#sk-container-id-2 div.sk-toggleable__content {max-height: 0;max-width: 0;overflow: hidden;text-align: left;background-color: #f0f8ff;}#sk-container-id-2 div.sk-toggleable__content pre {margin: 0.2em;color: black;border-radius: 0.25em;background-color: #f0f8ff;}#sk-container-id-2 input.sk-toggleable__control:checked~div.sk-toggleable__content {max-height: 200px;max-width: 100%;overflow: auto;}#sk-container-id-2 input.sk-toggleable__control:checked~label.sk-toggleable__label-arrow:before {content: \"▾\";}#sk-container-id-2 div.sk-estimator input.sk-toggleable__control:checked~label.sk-toggleable__label {background-color: #d4ebff;}#sk-container-id-2 div.sk-label input.sk-toggleable__control:checked~label.sk-toggleable__label {background-color: #d4ebff;}#sk-container-id-2 input.sk-hidden--visually {border: 0;clip: rect(1px 1px 1px 1px);clip: rect(1px, 1px, 1px, 1px);height: 1px;margin: -1px;overflow: hidden;padding: 0;position: absolute;width: 1px;}#sk-container-id-2 div.sk-estimator {font-family: monospace;background-color: #f0f8ff;border: 1px dotted black;border-radius: 0.25em;box-sizing: border-box;margin-bottom: 0.5em;}#sk-container-id-2 div.sk-estimator:hover {background-color: #d4ebff;}#sk-container-id-2 div.sk-parallel-item::after {content: \"\";width: 100%;border-bottom: 1px solid gray;flex-grow: 1;}#sk-container-id-2 div.sk-label:hover label.sk-toggleable__label {background-color: #d4ebff;}#sk-container-id-2 div.sk-serial::before {content: \"\";position: absolute;border-left: 1px solid gray;box-sizing: border-box;top: 0;bottom: 0;left: 50%;z-index: 0;}#sk-container-id-2 div.sk-serial {display: flex;flex-direction: column;align-items: center;background-color: white;padding-right: 0.2em;padding-left: 0.2em;position: relative;}#sk-container-id-2 div.sk-item {position: relative;z-index: 1;}#sk-container-id-2 div.sk-parallel {display: flex;align-items: stretch;justify-content: center;background-color: white;position: relative;}#sk-container-id-2 div.sk-item::before, #sk-container-id-2 div.sk-parallel-item::before {content: \"\";position: absolute;border-left: 1px solid gray;box-sizing: border-box;top: 0;bottom: 0;left: 50%;z-index: -1;}#sk-container-id-2 div.sk-parallel-item {display: flex;flex-direction: column;z-index: 1;position: relative;background-color: white;}#sk-container-id-2 div.sk-parallel-item:first-child::after {align-self: flex-end;width: 50%;}#sk-container-id-2 div.sk-parallel-item:last-child::after {align-self: flex-start;width: 50%;}#sk-container-id-2 div.sk-parallel-item:only-child::after {width: 0;}#sk-container-id-2 div.sk-dashed-wrapped {border: 1px dashed gray;margin: 0 0.4em 0.5em 0.4em;box-sizing: border-box;padding-bottom: 0.4em;background-color: white;}#sk-container-id-2 div.sk-label label {font-family: monospace;font-weight: bold;display: inline-block;line-height: 1.2em;}#sk-container-id-2 div.sk-label-container {text-align: center;}#sk-container-id-2 div.sk-container {/* jupyter's `normalize.less` sets `[hidden] { display: none; }` but bootstrap.min.css set `[hidden] { display: none !important; }` so we also need the `!important` here to be able to override the default hidden behavior on the sphinx rendered scikit-learn.org. See: https://github.com/scikit-learn/scikit-learn/issues/21755 */display: inline-block !important;position: relative;}#sk-container-id-2 div.sk-text-repr-fallback {display: none;}</style><div id=\"sk-container-id-2\" class=\"sk-top-container\"><div class=\"sk-text-repr-fallback\"><pre>RandomForestClassifier(criterion=&#x27;entropy&#x27;, max_depth=10, n_estimators=200,\n",
       "                       random_state=0)</pre><b>In a Jupyter environment, please rerun this cell to show the HTML representation or trust the notebook. <br />On GitHub, the HTML representation is unable to render, please try loading this page with nbviewer.org.</b></div><div class=\"sk-container\" hidden><div class=\"sk-item\"><div class=\"sk-estimator sk-toggleable\"><input class=\"sk-toggleable__control sk-hidden--visually\" id=\"sk-estimator-id-2\" type=\"checkbox\" checked><label for=\"sk-estimator-id-2\" class=\"sk-toggleable__label sk-toggleable__label-arrow\">RandomForestClassifier</label><div class=\"sk-toggleable__content\"><pre>RandomForestClassifier(criterion=&#x27;entropy&#x27;, max_depth=10, n_estimators=200,\n",
       "                       random_state=0)</pre></div></div></div></div></div>"
      ],
      "text/plain": [
       "RandomForestClassifier(criterion='entropy', max_depth=10, n_estimators=200,\n",
       "                       random_state=0)"
      ]
     },
     "execution_count": 13,
     "metadata": {},
     "output_type": "execute_result"
    }
   ],
   "source": [
    "from sklearn.ensemble import RandomForestClassifier\n",
    "\n",
    "clf = RandomForestClassifier(n_estimators=200,max_depth=10, random_state=0,criterion='entropy')\n",
    "clf.fit(X_train, y_train)\n",
    "\n"
   ]
  },
  {
   "cell_type": "code",
   "execution_count": 14,
   "id": "eab2c3ca-1946-43d0-a196-4c82faafa7d4",
   "metadata": {},
   "outputs": [
    {
     "data": {
      "text/plain": [
       "array([0.04877946, 0.1193811 , 0.06798393, 0.06774107, 0.07394283,\n",
       "       0.01502251, 0.03414546, 0.02430674, 0.38207739, 0.1666195 ])"
      ]
     },
     "execution_count": 14,
     "metadata": {},
     "output_type": "execute_result"
    }
   ],
   "source": [
    "clf.feature_importances_"
   ]
  },
  {
   "cell_type": "code",
   "execution_count": 15,
   "id": "6d8410b4-a776-425d-90be-131ae1487401",
   "metadata": {},
   "outputs": [
    {
     "name": "stdout",
     "output_type": "stream",
     "text": [
      "訓練集:  0.6353436858168416\n",
      "測試集:  0.6126273967870098\n"
     ]
    }
   ],
   "source": [
    "print('訓練集: ',clf.score(X_train,y_train))\n",
    "print('測試集: ',clf.score(X_test,y_test))"
   ]
  },
  {
   "cell_type": "code",
   "execution_count": 16,
   "id": "edb1d03e-75b1-4e76-92e5-acd2948337bc",
   "metadata": {},
   "outputs": [
    {
     "name": "stdout",
     "output_type": "stream",
     "text": [
      "分類的預測結果：\n",
      "[1. 1. 0. ... 0. 0. 1.]\n",
      "真實數據：\n",
      "[1. 1. 0. ... 0. 1. 1.]\n"
     ]
    }
   ],
   "source": [
    "print('分類的預測結果：')\n",
    "pred = clf.predict(X_test) \n",
    "print(pred) #觀察預測結果AA\n",
    "print('真實數據：')\n",
    "print(y_test.values)  #觀察真實數據(Test data)"
   ]
  },
  {
   "cell_type": "code",
   "execution_count": 143,
   "id": "cf60216f-4744-48d3-b30e-ed226a54f23a",
   "metadata": {},
   "outputs": [
    {
     "data": {
      "text/plain": [
       "array([1., 1., 1., ..., 0., 1., 1.])"
      ]
     },
     "execution_count": 143,
     "metadata": {},
     "output_type": "execute_result"
    }
   ],
   "source": [
    "pred"
   ]
  },
  {
   "cell_type": "code",
   "execution_count": 144,
   "id": "3678e2ed-c787-49af-a5ff-3ce5a809b2b8",
   "metadata": {},
   "outputs": [
    {
     "data": {
      "text/plain": [
       "11578"
      ]
     },
     "execution_count": 144,
     "metadata": {},
     "output_type": "execute_result"
    }
   ],
   "source": [
    "len(pred)"
   ]
  },
  {
   "cell_type": "code",
   "execution_count": 145,
   "id": "fc8ab925-c08a-4177-a4b1-a67000889a5b",
   "metadata": {},
   "outputs": [
    {
     "data": {
      "text/plain": [
       "array([[3325, 2464],\n",
       "       [2169, 3620]])"
      ]
     },
     "execution_count": 145,
     "metadata": {},
     "output_type": "execute_result"
    }
   ],
   "source": [
    "from sklearn.metrics import confusion_matrix\n",
    "confusion_matrix(y_test,pred)"
   ]
  },
  {
   "cell_type": "code",
   "execution_count": 20,
   "id": "b5ccfcc7-495f-41bb-8dd5-a86dbc2c5154",
   "metadata": {},
   "outputs": [],
   "source": [
    "import joblib"
   ]
  },
  {
   "cell_type": "code",
   "execution_count": 21,
   "id": "768e40e1-8f86-4dca-89a9-5f3e0f83126a",
   "metadata": {},
   "outputs": [
    {
     "data": {
      "text/plain": [
       "['clf.pkl']"
      ]
     },
     "execution_count": 21,
     "metadata": {},
     "output_type": "execute_result"
    }
   ],
   "source": [
    "joblib.dump(clf,'clf.pkl')"
   ]
  },
  {
   "cell_type": "code",
   "execution_count": null,
   "id": "460fc9bf-e3bb-415a-8943-1a16250d2aec",
   "metadata": {},
   "outputs": [],
   "source": []
  }
 ],
 "metadata": {
  "kernelspec": {
   "display_name": "Python 3 (ipykernel)",
   "language": "python",
   "name": "python3"
  },
  "language_info": {
   "codemirror_mode": {
    "name": "ipython",
    "version": 3
   },
   "file_extension": ".py",
   "mimetype": "text/x-python",
   "name": "python",
   "nbconvert_exporter": "python",
   "pygments_lexer": "ipython3",
   "version": "3.8.10"
  }
 },
 "nbformat": 4,
 "nbformat_minor": 5
}
